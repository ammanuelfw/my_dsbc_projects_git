{
 "cells": [
  {
   "cell_type": "markdown",
   "id": "a2465eaa",
   "metadata": {},
   "source": [
    "# Preprocessing and modeling\n",
    "\n",
    "## Flows:\n",
    "\n",
    "### 1. Remove unwanted features\n",
    "\n",
    "### 2. Features engineering\n",
    "\n",
    "### 3. Train and eveluate two models: Linear Regression vs. Random Forest Regression\n",
    "\n",
    "##\n"
   ]
  },
  {
   "cell_type": "code",
   "execution_count": 1,
   "id": "e9358ff8",
   "metadata": {},
   "outputs": [],
   "source": [
    "# First, import the relevant modules and packages\n",
    "import os\n",
    "import pandas as pd\n",
    "import numpy as np\n",
    "import matplotlib.pyplot as plt\n",
    "import seaborn as sns\n",
    "\n",
    "from sklearn.model_selection import train_test_split\n",
    "from sklearn.preprocessing import StandardScaler\n",
    "from sklearn.linear_model import LinearRegression\n",
    "from sklearn.ensemble import RandomForestRegressor\n",
    "from sklearn.metrics import mean_absolute_error, mean_squared_error, r2_score\n",
    "\n",
    "#suppress future warnings\n",
    "#import warnings\n",
    "#warnings.simplefilter(action='ignore', category=FutureWarning)\n",
    "#warnings.simplefilter(action='ignore', category=UserWarning)\n",
    "\n",
    "# Show plots inline\n",
    "%matplotlib inline"
   ]
  },
  {
   "cell_type": "code",
   "execution_count": 2,
   "id": "1551ef4f",
   "metadata": {},
   "outputs": [],
   "source": [
    "# Import Austin_TX_House_Listings_data_v1.csv & us_income_zipcode.csv\n",
    "df = pd.read_csv('../03_processed_data/oil_production_wrangled_data.csv', low_memory=False)"
   ]
  },
  {
   "cell_type": "code",
   "execution_count": 3,
   "id": "6ac09fc4",
   "metadata": {},
   "outputs": [
    {
     "data": {
      "text/plain": [
       "(2376, 6)"
      ]
     },
     "execution_count": 3,
     "metadata": {},
     "output_type": "execute_result"
    }
   ],
   "source": [
    "df.shape"
   ]
  },
  {
   "cell_type": "code",
   "execution_count": 4,
   "id": "3182a0f6",
   "metadata": {},
   "outputs": [
    {
     "data": {
      "text/html": [
       "<div>\n",
       "<style scoped>\n",
       "    .dataframe tbody tr th:only-of-type {\n",
       "        vertical-align: middle;\n",
       "    }\n",
       "\n",
       "    .dataframe tbody tr th {\n",
       "        vertical-align: top;\n",
       "    }\n",
       "\n",
       "    .dataframe thead th {\n",
       "        text-align: right;\n",
       "    }\n",
       "</style>\n",
       "<table border=\"1\" class=\"dataframe\">\n",
       "  <thead>\n",
       "    <tr style=\"text-align: right;\">\n",
       "      <th></th>\n",
       "      <th>country_name</th>\n",
       "      <th>type</th>\n",
       "      <th>product</th>\n",
       "      <th>flow</th>\n",
       "      <th>year</th>\n",
       "      <th>value</th>\n",
       "    </tr>\n",
       "  </thead>\n",
       "  <tbody>\n",
       "    <tr>\n",
       "      <th>0</th>\n",
       "      <td>Australia</td>\n",
       "      <td>Balance</td>\n",
       "      <td>Crude oil</td>\n",
       "      <td>Industrial Production</td>\n",
       "      <td>2021</td>\n",
       "      <td>18029.678</td>\n",
       "    </tr>\n",
       "    <tr>\n",
       "      <th>1</th>\n",
       "      <td>Austria</td>\n",
       "      <td>Balance</td>\n",
       "      <td>Crude oil</td>\n",
       "      <td>Industrial Production</td>\n",
       "      <td>2021</td>\n",
       "      <td>561.852</td>\n",
       "    </tr>\n",
       "    <tr>\n",
       "      <th>2</th>\n",
       "      <td>Belgium</td>\n",
       "      <td>Balance</td>\n",
       "      <td>Crude oil</td>\n",
       "      <td>Industrial Production</td>\n",
       "      <td>2021</td>\n",
       "      <td>0.000</td>\n",
       "    </tr>\n",
       "    <tr>\n",
       "      <th>3</th>\n",
       "      <td>Canada</td>\n",
       "      <td>Balance</td>\n",
       "      <td>Crude oil</td>\n",
       "      <td>Industrial Production</td>\n",
       "      <td>2021</td>\n",
       "      <td>266630.180</td>\n",
       "    </tr>\n",
       "    <tr>\n",
       "      <th>4</th>\n",
       "      <td>Chile</td>\n",
       "      <td>Balance</td>\n",
       "      <td>Crude oil</td>\n",
       "      <td>Industrial Production</td>\n",
       "      <td>2021</td>\n",
       "      <td>340.997</td>\n",
       "    </tr>\n",
       "  </tbody>\n",
       "</table>\n",
       "</div>"
      ],
      "text/plain": [
       "  country_name     type    product                   flow  year       value\n",
       "0    Australia  Balance  Crude oil  Industrial Production  2021   18029.678\n",
       "1      Austria  Balance  Crude oil  Industrial Production  2021     561.852\n",
       "2      Belgium  Balance  Crude oil  Industrial Production  2021       0.000\n",
       "3       Canada  Balance  Crude oil  Industrial Production  2021  266630.180\n",
       "4        Chile  Balance  Crude oil  Industrial Production  2021     340.997"
      ]
     },
     "execution_count": 4,
     "metadata": {},
     "output_type": "execute_result"
    }
   ],
   "source": [
    "df.head()"
   ]
  },
  {
   "cell_type": "code",
   "execution_count": 5,
   "id": "937750c3",
   "metadata": {
    "scrolled": false
   },
   "outputs": [
    {
     "name": "stdout",
     "output_type": "stream",
     "text": [
      "<class 'pandas.core.frame.DataFrame'>\n",
      "RangeIndex: 2376 entries, 0 to 2375\n",
      "Data columns (total 6 columns):\n",
      " #   Column        Non-Null Count  Dtype  \n",
      "---  ------        --------------  -----  \n",
      " 0   country_name  2376 non-null   object \n",
      " 1   type          2376 non-null   object \n",
      " 2   product       2376 non-null   object \n",
      " 3   flow          2376 non-null   object \n",
      " 4   year          2376 non-null   int64  \n",
      " 5   value         2376 non-null   float64\n",
      "dtypes: float64(1), int64(1), object(4)\n",
      "memory usage: 111.5+ KB\n"
     ]
    }
   ],
   "source": [
    "df.info()"
   ]
  },
  {
   "cell_type": "code",
   "execution_count": 6,
   "id": "1edfe958",
   "metadata": {},
   "outputs": [],
   "source": [
    "df['year'] = df['year'].astype('object')"
   ]
  },
  {
   "cell_type": "code",
   "execution_count": 7,
   "id": "f52671df",
   "metadata": {},
   "outputs": [
    {
     "name": "stdout",
     "output_type": "stream",
     "text": [
      "<class 'pandas.core.frame.DataFrame'>\n",
      "RangeIndex: 2376 entries, 0 to 2375\n",
      "Data columns (total 6 columns):\n",
      " #   Column        Non-Null Count  Dtype  \n",
      "---  ------        --------------  -----  \n",
      " 0   country_name  2376 non-null   object \n",
      " 1   type          2376 non-null   object \n",
      " 2   product       2376 non-null   object \n",
      " 3   flow          2376 non-null   object \n",
      " 4   year          2376 non-null   object \n",
      " 5   value         2376 non-null   float64\n",
      "dtypes: float64(1), object(5)\n",
      "memory usage: 111.5+ KB\n"
     ]
    }
   ],
   "source": [
    "df.info()"
   ]
  },
  {
   "cell_type": "code",
   "execution_count": 8,
   "id": "33ead54d",
   "metadata": {
    "scrolled": true
   },
   "outputs": [
    {
     "data": {
      "text/html": [
       "<div>\n",
       "<style scoped>\n",
       "    .dataframe tbody tr th:only-of-type {\n",
       "        vertical-align: middle;\n",
       "    }\n",
       "\n",
       "    .dataframe tbody tr th {\n",
       "        vertical-align: top;\n",
       "    }\n",
       "\n",
       "    .dataframe thead th {\n",
       "        text-align: right;\n",
       "    }\n",
       "</style>\n",
       "<table border=\"1\" class=\"dataframe\">\n",
       "  <thead>\n",
       "    <tr style=\"text-align: right;\">\n",
       "      <th></th>\n",
       "      <th>value</th>\n",
       "    </tr>\n",
       "  </thead>\n",
       "  <tbody>\n",
       "    <tr>\n",
       "      <th>count</th>\n",
       "      <td>2376.00</td>\n",
       "    </tr>\n",
       "    <tr>\n",
       "      <th>mean</th>\n",
       "      <td>6298.35</td>\n",
       "    </tr>\n",
       "    <tr>\n",
       "      <th>std</th>\n",
       "      <td>36784.31</td>\n",
       "    </tr>\n",
       "    <tr>\n",
       "      <th>min</th>\n",
       "      <td>-2442.00</td>\n",
       "    </tr>\n",
       "    <tr>\n",
       "      <th>25%</th>\n",
       "      <td>48.56</td>\n",
       "    </tr>\n",
       "    <tr>\n",
       "      <th>50%</th>\n",
       "      <td>462.11</td>\n",
       "    </tr>\n",
       "    <tr>\n",
       "      <th>75%</th>\n",
       "      <td>2594.84</td>\n",
       "    </tr>\n",
       "    <tr>\n",
       "      <th>max</th>\n",
       "      <td>790672.41</td>\n",
       "    </tr>\n",
       "  </tbody>\n",
       "</table>\n",
       "</div>"
      ],
      "text/plain": [
       "           value\n",
       "count    2376.00\n",
       "mean     6298.35\n",
       "std     36784.31\n",
       "min     -2442.00\n",
       "25%        48.56\n",
       "50%       462.11\n",
       "75%      2594.84\n",
       "max    790672.41"
      ]
     },
     "execution_count": 8,
     "metadata": {},
     "output_type": "execute_result"
    }
   ],
   "source": [
    "df.describe().round(2)"
   ]
  },
  {
   "cell_type": "code",
   "execution_count": 9,
   "id": "1fc169fb",
   "metadata": {
    "scrolled": true
   },
   "outputs": [
    {
     "data": {
      "text/plain": [
       "country_name      36\n",
       "type               1\n",
       "product           11\n",
       "flow               4\n",
       "year               3\n",
       "value           1808\n",
       "dtype: int64"
      ]
     },
     "execution_count": 9,
     "metadata": {},
     "output_type": "execute_result"
    }
   ],
   "source": [
    "df.nunique()"
   ]
  },
  {
   "cell_type": "code",
   "execution_count": 10,
   "id": "7b5a37f9",
   "metadata": {
    "scrolled": true
   },
   "outputs": [
    {
     "name": "stdout",
     "output_type": "stream",
     "text": [
      "Unique values in column 'country_name': ['Australia' 'Austria' 'Belgium' 'Canada' 'Chile' 'Czech Republic'\n",
      " 'Denmark' 'Estonia' 'Finland' 'France' 'Germany' 'Greece' 'Hungary'\n",
      " 'Iceland' 'Ireland' 'Israel' 'Italy' 'Japan' 'South Korea' 'Latvia'\n",
      " 'Lithuania' 'Luxembourg' 'Mexico' 'Netherlands' 'Norway' 'New Zealand'\n",
      " 'Poland' 'Portugal' 'Slovakia' 'Slovenia' 'Spain' 'Sweden' 'Switzerland'\n",
      " 'Türkiye' 'United Kingdom' 'United States']\n",
      "\n",
      "Unique values in column 'type': ['Balance']\n",
      "\n",
      "Unique values in column 'product': ['Crude oil' 'Liquified Petroleum Gas' 'Naphtha'\n",
      " 'Total gas oil production' 'Total kerosene production'\n",
      " 'Gasoline and diesel' 'Residual fuel oil' 'Other oil products'\n",
      " 'Total oil products production' 'Total oil production'\n",
      " 'Middle distillates']\n",
      "\n",
      "Unique values in column 'flow': ['Industrial Production' 'Net Deliveries' 'Consumption Pattern'\n",
      " 'Storage Channelization']\n",
      "\n",
      "Unique values in column 'year': [2021 2022 2023]\n",
      "\n",
      "Unique values in column 'value': [ 1.8029678e+04  5.6185200e+02  0.0000000e+00 ... -9.7600000e-01\n",
      "  8.0912000e+01 -2.1200000e+02]\n",
      "\n"
     ]
    }
   ],
   "source": [
    "for column in df.columns:\n",
    "    unique_values = df[column].unique()\n",
    "    print(f\"Unique values in column '{column}': {unique_values}\\n\")"
   ]
  },
  {
   "cell_type": "markdown",
   "id": "6d3b2225",
   "metadata": {},
   "source": [
    "## It looks like we don't need the 'type' feature / column since it is the same for all countries"
   ]
  },
  {
   "cell_type": "code",
   "execution_count": 11,
   "id": "26c6ea14",
   "metadata": {},
   "outputs": [
    {
     "data": {
      "text/plain": [
       "Index(['country_name', 'product', 'flow', 'value'], dtype='object')"
      ]
     },
     "execution_count": 11,
     "metadata": {},
     "output_type": "execute_result"
    }
   ],
   "source": [
    "# Remove the 'type' feature\n",
    "df.drop(columns=['type','year'], inplace=True)\n",
    "df.columns"
   ]
  },
  {
   "cell_type": "code",
   "execution_count": 12,
   "id": "0e3eadf3",
   "metadata": {},
   "outputs": [
    {
     "name": "stdout",
     "output_type": "stream",
     "text": [
      "Original DataFrame:\n",
      "(2376, 4)\n",
      "\n",
      "DataFrame without outliers:\n",
      "(2063, 4)\n"
     ]
    },
    {
     "name": "stderr",
     "output_type": "stream",
     "text": [
      "C:\\Users\\famma\\AppData\\Local\\Temp\\ipykernel_24176\\3879531505.py:2: FutureWarning: The default value of numeric_only in DataFrame.quantile is deprecated. In a future version, it will default to False. Select only valid columns or specify the value of numeric_only to silence this warning.\n",
      "  Q1 = df.quantile(0.25)\n",
      "C:\\Users\\famma\\AppData\\Local\\Temp\\ipykernel_24176\\3879531505.py:3: FutureWarning: The default value of numeric_only in DataFrame.quantile is deprecated. In a future version, it will default to False. Select only valid columns or specify the value of numeric_only to silence this warning.\n",
      "  Q3 = df.quantile(0.75)\n",
      "C:\\Users\\famma\\AppData\\Local\\Temp\\ipykernel_24176\\3879531505.py:9: FutureWarning: Automatic reindexing on DataFrame vs Series comparisons is deprecated and will raise ValueError in a future version. Do `left, right = left.align(right, axis=1, copy=False)` before e.g. `left == right`\n",
      "  outliers = ((df < (Q1 - 1.5 * IQR)) | (df > (Q3 + 1.5 * IQR)))\n"
     ]
    }
   ],
   "source": [
    "# Calculate Q1 (25th percentile) and Q3 (75th percentile) for each feature\n",
    "Q1 = df.quantile(0.25)\n",
    "Q3 = df.quantile(0.75)\n",
    "\n",
    "# Calculate IQR for each feature\n",
    "IQR = Q3 - Q1\n",
    "\n",
    "# Define outliers as any point outside the range of [Q1 - 1.5*IQR, Q3 + 1.5*IQR]\n",
    "outliers = ((df < (Q1 - 1.5 * IQR)) | (df > (Q3 + 1.5 * IQR)))\n",
    "\n",
    "# Remove rows with outliers\n",
    "df_no_outliers = df[~outliers.any(axis=1)]\n",
    "\n",
    "print(\"Original DataFrame:\")\n",
    "print(df.shape)\n",
    "print(\"\\nDataFrame without outliers:\")\n",
    "print(df_no_outliers.shape)"
   ]
  },
  {
   "cell_type": "code",
   "execution_count": 13,
   "id": "5680da72",
   "metadata": {},
   "outputs": [],
   "source": [
    "#df2 = df[df['product'] != ('Total gas oil production', 'Total kerosene production', 'Total oil products production', 'Total oil production')]\n",
    "#df2.head()"
   ]
  },
  {
   "cell_type": "code",
   "execution_count": 14,
   "id": "bbbb04b9",
   "metadata": {},
   "outputs": [],
   "source": [
    "#df2_no_outliers = df_no_outliers[df_no_outliers['value'] >= 0]\n",
    "#df2_no_outliers.shape"
   ]
  },
  {
   "cell_type": "code",
   "execution_count": 15,
   "id": "03eeed50",
   "metadata": {},
   "outputs": [
    {
     "data": {
      "text/plain": [
       "array(['Austria', 'Belgium', 'Chile', 'Czech Republic', 'Denmark',\n",
       "       'Estonia', 'Finland', 'France', 'Germany', 'Greece', 'Hungary',\n",
       "       'Iceland', 'Ireland', 'Israel', 'Italy', 'Japan', 'South Korea',\n",
       "       'Latvia', 'Lithuania', 'Luxembourg', 'Netherlands', 'New Zealand',\n",
       "       'Poland', 'Portugal', 'Slovakia', 'Slovenia', 'Spain', 'Sweden',\n",
       "       'Switzerland', 'Türkiye', 'Australia', 'Mexico', 'Norway',\n",
       "       'United Kingdom', 'Canada'], dtype=object)"
      ]
     },
     "execution_count": 15,
     "metadata": {},
     "output_type": "execute_result"
    }
   ],
   "source": [
    "df_wo_us = df_no_outliers[df_no_outliers.country_name != 'United States']\n",
    "df_wo_us.country_name.unique()"
   ]
  },
  {
   "cell_type": "code",
   "execution_count": 16,
   "id": "011c6742",
   "metadata": {},
   "outputs": [],
   "source": [
    "#countries_to_remove = ['United States','Canada']\n",
    "#df_wo_us_ca = df_no_outliers[~df_no_outliers.country_name.isin(countries_to_remove)]\n",
    "#df_wo_us_ca.country_name.unique()"
   ]
  },
  {
   "cell_type": "markdown",
   "id": "56f9be45",
   "metadata": {},
   "source": [
    "## Create dummy features for categorical variables & Normalize the data"
   ]
  },
  {
   "cell_type": "code",
   "execution_count": 17,
   "id": "a48d5cd6",
   "metadata": {
    "scrolled": true
   },
   "outputs": [
    {
     "data": {
      "text/html": [
       "<div>\n",
       "<style scoped>\n",
       "    .dataframe tbody tr th:only-of-type {\n",
       "        vertical-align: middle;\n",
       "    }\n",
       "\n",
       "    .dataframe tbody tr th {\n",
       "        vertical-align: top;\n",
       "    }\n",
       "\n",
       "    .dataframe thead th {\n",
       "        text-align: right;\n",
       "    }\n",
       "</style>\n",
       "<table border=\"1\" class=\"dataframe\">\n",
       "  <thead>\n",
       "    <tr style=\"text-align: right;\">\n",
       "      <th></th>\n",
       "      <th>value</th>\n",
       "      <th>country_name_Austria</th>\n",
       "      <th>country_name_Belgium</th>\n",
       "      <th>country_name_Canada</th>\n",
       "      <th>country_name_Chile</th>\n",
       "      <th>country_name_Czech Republic</th>\n",
       "      <th>country_name_Denmark</th>\n",
       "      <th>country_name_Estonia</th>\n",
       "      <th>country_name_Finland</th>\n",
       "      <th>country_name_France</th>\n",
       "      <th>...</th>\n",
       "      <th>product_Naphtha</th>\n",
       "      <th>product_Other oil products</th>\n",
       "      <th>product_Residual fuel oil</th>\n",
       "      <th>product_Total gas oil production</th>\n",
       "      <th>product_Total kerosene production</th>\n",
       "      <th>product_Total oil production</th>\n",
       "      <th>product_Total oil products production</th>\n",
       "      <th>flow_Industrial Production</th>\n",
       "      <th>flow_Net Deliveries</th>\n",
       "      <th>flow_Storage Channelization</th>\n",
       "    </tr>\n",
       "  </thead>\n",
       "  <tbody>\n",
       "    <tr>\n",
       "      <th>1</th>\n",
       "      <td>561.852</td>\n",
       "      <td>1</td>\n",
       "      <td>0</td>\n",
       "      <td>0</td>\n",
       "      <td>0</td>\n",
       "      <td>0</td>\n",
       "      <td>0</td>\n",
       "      <td>0</td>\n",
       "      <td>0</td>\n",
       "      <td>0</td>\n",
       "      <td>...</td>\n",
       "      <td>0</td>\n",
       "      <td>0</td>\n",
       "      <td>0</td>\n",
       "      <td>0</td>\n",
       "      <td>0</td>\n",
       "      <td>0</td>\n",
       "      <td>0</td>\n",
       "      <td>1</td>\n",
       "      <td>0</td>\n",
       "      <td>0</td>\n",
       "    </tr>\n",
       "    <tr>\n",
       "      <th>2</th>\n",
       "      <td>0.000</td>\n",
       "      <td>0</td>\n",
       "      <td>1</td>\n",
       "      <td>0</td>\n",
       "      <td>0</td>\n",
       "      <td>0</td>\n",
       "      <td>0</td>\n",
       "      <td>0</td>\n",
       "      <td>0</td>\n",
       "      <td>0</td>\n",
       "      <td>...</td>\n",
       "      <td>0</td>\n",
       "      <td>0</td>\n",
       "      <td>0</td>\n",
       "      <td>0</td>\n",
       "      <td>0</td>\n",
       "      <td>0</td>\n",
       "      <td>0</td>\n",
       "      <td>1</td>\n",
       "      <td>0</td>\n",
       "      <td>0</td>\n",
       "    </tr>\n",
       "    <tr>\n",
       "      <th>4</th>\n",
       "      <td>340.997</td>\n",
       "      <td>0</td>\n",
       "      <td>0</td>\n",
       "      <td>0</td>\n",
       "      <td>1</td>\n",
       "      <td>0</td>\n",
       "      <td>0</td>\n",
       "      <td>0</td>\n",
       "      <td>0</td>\n",
       "      <td>0</td>\n",
       "      <td>...</td>\n",
       "      <td>0</td>\n",
       "      <td>0</td>\n",
       "      <td>0</td>\n",
       "      <td>0</td>\n",
       "      <td>0</td>\n",
       "      <td>0</td>\n",
       "      <td>0</td>\n",
       "      <td>1</td>\n",
       "      <td>0</td>\n",
       "      <td>0</td>\n",
       "    </tr>\n",
       "    <tr>\n",
       "      <th>5</th>\n",
       "      <td>87.000</td>\n",
       "      <td>0</td>\n",
       "      <td>0</td>\n",
       "      <td>0</td>\n",
       "      <td>0</td>\n",
       "      <td>1</td>\n",
       "      <td>0</td>\n",
       "      <td>0</td>\n",
       "      <td>0</td>\n",
       "      <td>0</td>\n",
       "      <td>...</td>\n",
       "      <td>0</td>\n",
       "      <td>0</td>\n",
       "      <td>0</td>\n",
       "      <td>0</td>\n",
       "      <td>0</td>\n",
       "      <td>0</td>\n",
       "      <td>0</td>\n",
       "      <td>1</td>\n",
       "      <td>0</td>\n",
       "      <td>0</td>\n",
       "    </tr>\n",
       "    <tr>\n",
       "      <th>6</th>\n",
       "      <td>3239.000</td>\n",
       "      <td>0</td>\n",
       "      <td>0</td>\n",
       "      <td>0</td>\n",
       "      <td>0</td>\n",
       "      <td>0</td>\n",
       "      <td>1</td>\n",
       "      <td>0</td>\n",
       "      <td>0</td>\n",
       "      <td>0</td>\n",
       "      <td>...</td>\n",
       "      <td>0</td>\n",
       "      <td>0</td>\n",
       "      <td>0</td>\n",
       "      <td>0</td>\n",
       "      <td>0</td>\n",
       "      <td>0</td>\n",
       "      <td>0</td>\n",
       "      <td>1</td>\n",
       "      <td>0</td>\n",
       "      <td>0</td>\n",
       "    </tr>\n",
       "  </tbody>\n",
       "</table>\n",
       "<p>5 rows × 48 columns</p>\n",
       "</div>"
      ],
      "text/plain": [
       "      value  country_name_Austria  country_name_Belgium  country_name_Canada  \\\n",
       "1   561.852                     1                     0                    0   \n",
       "2     0.000                     0                     1                    0   \n",
       "4   340.997                     0                     0                    0   \n",
       "5    87.000                     0                     0                    0   \n",
       "6  3239.000                     0                     0                    0   \n",
       "\n",
       "   country_name_Chile  country_name_Czech Republic  country_name_Denmark  \\\n",
       "1                   0                            0                     0   \n",
       "2                   0                            0                     0   \n",
       "4                   1                            0                     0   \n",
       "5                   0                            1                     0   \n",
       "6                   0                            0                     1   \n",
       "\n",
       "   country_name_Estonia  country_name_Finland  country_name_France  ...  \\\n",
       "1                     0                     0                    0  ...   \n",
       "2                     0                     0                    0  ...   \n",
       "4                     0                     0                    0  ...   \n",
       "5                     0                     0                    0  ...   \n",
       "6                     0                     0                    0  ...   \n",
       "\n",
       "   product_Naphtha  product_Other oil products  product_Residual fuel oil  \\\n",
       "1                0                           0                          0   \n",
       "2                0                           0                          0   \n",
       "4                0                           0                          0   \n",
       "5                0                           0                          0   \n",
       "6                0                           0                          0   \n",
       "\n",
       "   product_Total gas oil production  product_Total kerosene production  \\\n",
       "1                                 0                                  0   \n",
       "2                                 0                                  0   \n",
       "4                                 0                                  0   \n",
       "5                                 0                                  0   \n",
       "6                                 0                                  0   \n",
       "\n",
       "   product_Total oil production  product_Total oil products production  \\\n",
       "1                             0                                      0   \n",
       "2                             0                                      0   \n",
       "4                             0                                      0   \n",
       "5                             0                                      0   \n",
       "6                             0                                      0   \n",
       "\n",
       "   flow_Industrial Production  flow_Net Deliveries  \\\n",
       "1                           1                    0   \n",
       "2                           1                    0   \n",
       "4                           1                    0   \n",
       "5                           1                    0   \n",
       "6                           1                    0   \n",
       "\n",
       "   flow_Storage Channelization  \n",
       "1                            0  \n",
       "2                            0  \n",
       "4                            0  \n",
       "5                            0  \n",
       "6                            0  \n",
       "\n",
       "[5 rows x 48 columns]"
      ]
     },
     "execution_count": 17,
     "metadata": {},
     "output_type": "execute_result"
    }
   ],
   "source": [
    "# Identify categorical columns\n",
    "categorical_cols = df_wo_us.select_dtypes(include=['object']).columns\n",
    "\n",
    "# Create dummy variables for all categorical columns\n",
    "df_dummies = pd.get_dummies(df_wo_us, columns=categorical_cols, drop_first=True)\n",
    "\n",
    "df_dummies.head()\n"
   ]
  },
  {
   "cell_type": "code",
   "execution_count": 18,
   "id": "d1c65784",
   "metadata": {},
   "outputs": [
    {
     "data": {
      "text/plain": [
       "(2042, 48)"
      ]
     },
     "execution_count": 18,
     "metadata": {},
     "output_type": "execute_result"
    }
   ],
   "source": [
    "df_dummies.shape"
   ]
  },
  {
   "cell_type": "markdown",
   "id": "854a5768",
   "metadata": {},
   "source": [
    "## Train / Split data to train models"
   ]
  },
  {
   "cell_type": "code",
   "execution_count": 19,
   "id": "7e2db537",
   "metadata": {},
   "outputs": [
    {
     "name": "stdout",
     "output_type": "stream",
     "text": [
      "\n",
      "Training Features Shape:\n",
      "(1429, 47)\n",
      "\n",
      "Test Features Shape:\n",
      "(613, 47)\n",
      "\n",
      "Training Target Shape:\n",
      "(1429,)\n",
      "\n",
      "Test Target Shape:\n",
      "(613,)\n"
     ]
    }
   ],
   "source": [
    "# Split the data into features (X) and target (y)\n",
    "X = df_dummies.drop('value', axis=1)  # Features (dropping target variable 'value')\n",
    "y = df_dummies['value']  # Target variable\n",
    "\n",
    "## Normalize the features using StandardScaler\n",
    "#scaler = StandardScaler()\n",
    "#X_scaled = scaler.fit_transform(X)  # Fit and transform the data\n",
    "\n",
    "# Step 4: Apply train-test split\n",
    "X_train, X_test, y_train, y_test = train_test_split(X, y, test_size=0.3, random_state=42)\n",
    "\n",
    "# Display the train and test sets\n",
    "print(\"\\nTraining Features Shape:\")\n",
    "print(X_train.shape)\n",
    "print(\"\\nTest Features Shape:\")\n",
    "print(X_test.shape)\n",
    "print(\"\\nTraining Target Shape:\")\n",
    "print(y_train.shape)\n",
    "print(\"\\nTest Target Shape:\")\n",
    "print(y_test.shape)"
   ]
  },
  {
   "cell_type": "markdown",
   "id": "53c189cf",
   "metadata": {},
   "source": [
    "## Train and evaluate two models\n",
    "## Linear Regression vs. Random Forest Regression"
   ]
  },
  {
   "cell_type": "markdown",
   "id": "0df5df73",
   "metadata": {},
   "source": [
    "## Linear Regression"
   ]
  },
  {
   "cell_type": "code",
   "execution_count": 20,
   "id": "b795b041",
   "metadata": {},
   "outputs": [
    {
     "name": "stdout",
     "output_type": "stream",
     "text": [
      "Linear Regression Evaluation:\n",
      "Mean Absolute Error: 803.254\n",
      "Mean Squared Error: 1213187.8114\n",
      "R² Score: 0.3999\n",
      "\n"
     ]
    }
   ],
   "source": [
    "linear_regressor = LinearRegression()\n",
    "linear_regressor.fit(X_train, y_train)\n",
    "y_pred_linear = linear_regressor.predict(X_test)\n",
    "\n",
    "# Linear Regression evaluation\n",
    "print(\"Linear Regression Evaluation:\")\n",
    "print(f\"Mean Absolute Error: {mean_absolute_error(y_test, y_pred_linear).round(4)}\")\n",
    "print(f\"Mean Squared Error: {mean_squared_error(y_test, y_pred_linear).round(4)}\")\n",
    "print(f\"R² Score: {r2_score(y_test, y_pred_linear).round(4)}\\n\")"
   ]
  },
  {
   "cell_type": "markdown",
   "id": "2922ec19",
   "metadata": {},
   "source": [
    "## Random Forest Regression"
   ]
  },
  {
   "cell_type": "code",
   "execution_count": 21,
   "id": "a8ccf36f",
   "metadata": {},
   "outputs": [
    {
     "name": "stdout",
     "output_type": "stream",
     "text": [
      "Random Forest Regression Evaluation:\n",
      "Mean Absolute Error: 515.6194\n",
      "Mean Squared Error: 828804.4951\n",
      "R² Score: 0.59\n"
     ]
    }
   ],
   "source": [
    "random_forest_regressor = RandomForestRegressor(n_estimators=100, random_state=42)\n",
    "random_forest_regressor.fit(X_train, y_train)\n",
    "y_pred_rf = random_forest_regressor.predict(X_test)\n",
    "\n",
    "# Random Forest Regression evaluation\n",
    "print(\"Random Forest Regression Evaluation:\")\n",
    "print(f\"Mean Absolute Error: {mean_absolute_error(y_test, y_pred_rf).round(4)}\")\n",
    "print(f\"Mean Squared Error: {mean_squared_error(y_test, y_pred_rf).round(4)}\")\n",
    "print(f\"R² Score: {r2_score(y_test, y_pred_rf).round(4)}\")"
   ]
  }
 ],
 "metadata": {
  "kernelspec": {
   "display_name": "Python 3 (ipykernel)",
   "language": "python",
   "name": "python3"
  },
  "language_info": {
   "codemirror_mode": {
    "name": "ipython",
    "version": 3
   },
   "file_extension": ".py",
   "mimetype": "text/x-python",
   "name": "python",
   "nbconvert_exporter": "python",
   "pygments_lexer": "ipython3",
   "version": "3.11.4"
  }
 },
 "nbformat": 4,
 "nbformat_minor": 5
}
