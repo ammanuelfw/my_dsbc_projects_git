{
 "cells": [
  {
   "cell_type": "markdown",
   "id": "55568bd1",
   "metadata": {},
   "source": [
    "###  Apply Train / Split "
   ]
  },
  {
   "cell_type": "code",
   "execution_count": 1,
   "id": "f251803c",
   "metadata": {},
   "outputs": [],
   "source": [
    "import os\n",
    "import pandas as pd\n",
    "import numpy as np\n",
    "import matplotlib.pyplot as plt\n",
    "import seaborn as sns\n",
    "\n",
    "from sklearn.model_selection import train_test_split\n",
    "from sklearn.linear_model import LogisticRegression"
   ]
  },
  {
   "cell_type": "code",
   "execution_count": 2,
   "id": "949c207c",
   "metadata": {},
   "outputs": [],
   "source": [
    "# Import data prepared in EDA after PCA as X to apply Train / Slpit\n",
    "X_pca_df = pd.read_csv('../03_processed_data/austin_housePrice_and_income_data_af_EDA_PCA.csv', low_memory=False)"
   ]
  },
  {
   "cell_type": "code",
   "execution_count": 3,
   "id": "e7cb319e",
   "metadata": {},
   "outputs": [],
   "source": [
    "# Import latest price data prepared in EDA as y to apply Train / Slpit\n",
    "price_df = pd.read_csv('../03_processed_data/austin_house_latest_price_af_EDA_PCA.csv', low_memory=False)"
   ]
  },
  {
   "cell_type": "code",
   "execution_count": 4,
   "id": "4f260c13",
   "metadata": {},
   "outputs": [
    {
     "data": {
      "text/plain": [
       "(14733, 47)"
      ]
     },
     "execution_count": 4,
     "metadata": {},
     "output_type": "execute_result"
    }
   ],
   "source": [
    "X_pca_df.shape"
   ]
  },
  {
   "cell_type": "code",
   "execution_count": 5,
   "id": "b498de1c",
   "metadata": {
    "scrolled": true
   },
   "outputs": [
    {
     "data": {
      "text/html": [
       "<div>\n",
       "<style scoped>\n",
       "    .dataframe tbody tr th:only-of-type {\n",
       "        vertical-align: middle;\n",
       "    }\n",
       "\n",
       "    .dataframe tbody tr th {\n",
       "        vertical-align: top;\n",
       "    }\n",
       "\n",
       "    .dataframe thead th {\n",
       "        text-align: right;\n",
       "    }\n",
       "</style>\n",
       "<table border=\"1\" class=\"dataframe\">\n",
       "  <thead>\n",
       "    <tr style=\"text-align: right;\">\n",
       "      <th></th>\n",
       "      <th>0</th>\n",
       "      <th>1</th>\n",
       "      <th>2</th>\n",
       "      <th>3</th>\n",
       "      <th>4</th>\n",
       "      <th>5</th>\n",
       "      <th>6</th>\n",
       "      <th>7</th>\n",
       "      <th>8</th>\n",
       "      <th>9</th>\n",
       "      <th>...</th>\n",
       "      <th>37</th>\n",
       "      <th>38</th>\n",
       "      <th>39</th>\n",
       "      <th>40</th>\n",
       "      <th>41</th>\n",
       "      <th>42</th>\n",
       "      <th>43</th>\n",
       "      <th>44</th>\n",
       "      <th>45</th>\n",
       "      <th>46</th>\n",
       "    </tr>\n",
       "  </thead>\n",
       "  <tbody>\n",
       "    <tr>\n",
       "      <th>0</th>\n",
       "      <td>-5.379758</td>\n",
       "      <td>0.648896</td>\n",
       "      <td>-2.630009</td>\n",
       "      <td>1.324542</td>\n",
       "      <td>-0.516196</td>\n",
       "      <td>0.427561</td>\n",
       "      <td>0.546939</td>\n",
       "      <td>-0.587342</td>\n",
       "      <td>0.040090</td>\n",
       "      <td>0.440668</td>\n",
       "      <td>...</td>\n",
       "      <td>-0.194648</td>\n",
       "      <td>-0.069778</td>\n",
       "      <td>0.166141</td>\n",
       "      <td>0.196044</td>\n",
       "      <td>-0.180053</td>\n",
       "      <td>-0.142683</td>\n",
       "      <td>0.030644</td>\n",
       "      <td>-0.033695</td>\n",
       "      <td>-0.001243</td>\n",
       "      <td>-2.204129e-16</td>\n",
       "    </tr>\n",
       "    <tr>\n",
       "      <th>1</th>\n",
       "      <td>-7.208337</td>\n",
       "      <td>-0.966243</td>\n",
       "      <td>1.095670</td>\n",
       "      <td>0.718015</td>\n",
       "      <td>-0.079973</td>\n",
       "      <td>0.692868</td>\n",
       "      <td>-1.213629</td>\n",
       "      <td>-0.774073</td>\n",
       "      <td>1.121826</td>\n",
       "      <td>-0.526366</td>\n",
       "      <td>...</td>\n",
       "      <td>-0.117768</td>\n",
       "      <td>-0.175596</td>\n",
       "      <td>0.026700</td>\n",
       "      <td>0.176197</td>\n",
       "      <td>-0.261163</td>\n",
       "      <td>-0.481704</td>\n",
       "      <td>0.009928</td>\n",
       "      <td>-0.006876</td>\n",
       "      <td>-0.009131</td>\n",
       "      <td>-5.235100e-16</td>\n",
       "    </tr>\n",
       "    <tr>\n",
       "      <th>2</th>\n",
       "      <td>-6.081084</td>\n",
       "      <td>-0.414983</td>\n",
       "      <td>1.218450</td>\n",
       "      <td>0.127751</td>\n",
       "      <td>0.498261</td>\n",
       "      <td>0.771758</td>\n",
       "      <td>1.033676</td>\n",
       "      <td>-0.716406</td>\n",
       "      <td>1.232510</td>\n",
       "      <td>-0.334900</td>\n",
       "      <td>...</td>\n",
       "      <td>-0.053244</td>\n",
       "      <td>0.027089</td>\n",
       "      <td>0.151422</td>\n",
       "      <td>0.260919</td>\n",
       "      <td>-0.176623</td>\n",
       "      <td>-0.212749</td>\n",
       "      <td>-0.086285</td>\n",
       "      <td>-0.001135</td>\n",
       "      <td>0.013249</td>\n",
       "      <td>2.577624e-16</td>\n",
       "    </tr>\n",
       "  </tbody>\n",
       "</table>\n",
       "<p>3 rows × 47 columns</p>\n",
       "</div>"
      ],
      "text/plain": [
       "          0         1         2         3         4         5         6  \\\n",
       "0 -5.379758  0.648896 -2.630009  1.324542 -0.516196  0.427561  0.546939   \n",
       "1 -7.208337 -0.966243  1.095670  0.718015 -0.079973  0.692868 -1.213629   \n",
       "2 -6.081084 -0.414983  1.218450  0.127751  0.498261  0.771758  1.033676   \n",
       "\n",
       "          7         8         9  ...        37        38        39        40  \\\n",
       "0 -0.587342  0.040090  0.440668  ... -0.194648 -0.069778  0.166141  0.196044   \n",
       "1 -0.774073  1.121826 -0.526366  ... -0.117768 -0.175596  0.026700  0.176197   \n",
       "2 -0.716406  1.232510 -0.334900  ... -0.053244  0.027089  0.151422  0.260919   \n",
       "\n",
       "         41        42        43        44        45            46  \n",
       "0 -0.180053 -0.142683  0.030644 -0.033695 -0.001243 -2.204129e-16  \n",
       "1 -0.261163 -0.481704  0.009928 -0.006876 -0.009131 -5.235100e-16  \n",
       "2 -0.176623 -0.212749 -0.086285 -0.001135  0.013249  2.577624e-16  \n",
       "\n",
       "[3 rows x 47 columns]"
      ]
     },
     "execution_count": 5,
     "metadata": {},
     "output_type": "execute_result"
    }
   ],
   "source": [
    "X_pca_df.head(3)"
   ]
  },
  {
   "cell_type": "code",
   "execution_count": 6,
   "id": "c0ad2298",
   "metadata": {},
   "outputs": [],
   "source": [
    "y_price_df = price_df.latest_price"
   ]
  },
  {
   "cell_type": "code",
   "execution_count": 7,
   "id": "a8e65871",
   "metadata": {},
   "outputs": [
    {
     "data": {
      "text/plain": [
       "(14733,)"
      ]
     },
     "execution_count": 7,
     "metadata": {},
     "output_type": "execute_result"
    }
   ],
   "source": [
    "y_price_df.shape"
   ]
  },
  {
   "cell_type": "code",
   "execution_count": 8,
   "id": "6528bca9",
   "metadata": {
    "scrolled": true
   },
   "outputs": [
    {
     "data": {
      "text/plain": [
       "0     715000.0\n",
       "1    1025000.0\n",
       "2     825000.0\n",
       "Name: latest_price, dtype: float64"
      ]
     },
     "execution_count": 8,
     "metadata": {},
     "output_type": "execute_result"
    }
   ],
   "source": [
    "y_price_df.head(3)"
   ]
  },
  {
   "cell_type": "code",
   "execution_count": 9,
   "id": "3c2d2534",
   "metadata": {},
   "outputs": [
    {
     "data": {
      "text/plain": [
       "pandas.core.series.Series"
      ]
     },
     "execution_count": 9,
     "metadata": {},
     "output_type": "execute_result"
    }
   ],
   "source": [
    "type(y_price_df)"
   ]
  },
  {
   "cell_type": "code",
   "execution_count": 10,
   "id": "4035f59a",
   "metadata": {},
   "outputs": [],
   "source": [
    "# Conduct 70/30 train/test split\n",
    "X_train, X_test, y_train, y_test = train_test_split(X_pca_df, y_price_df, test_size=0.3, random_state=42)"
   ]
  },
  {
   "cell_type": "code",
   "execution_count": 11,
   "id": "7e49bc0e",
   "metadata": {},
   "outputs": [
    {
     "data": {
      "text/plain": [
       "((10313, 47), (4420, 47))"
      ]
     },
     "execution_count": 11,
     "metadata": {},
     "output_type": "execute_result"
    }
   ],
   "source": [
    "X_train.shape, X_test.shape"
   ]
  },
  {
   "cell_type": "code",
   "execution_count": 12,
   "id": "1072d321",
   "metadata": {},
   "outputs": [
    {
     "data": {
      "text/plain": [
       "((10313,), (4420,))"
      ]
     },
     "execution_count": 12,
     "metadata": {},
     "output_type": "execute_result"
    }
   ],
   "source": [
    "y_train.shape, y_test.shape"
   ]
  }
 ],
 "metadata": {
  "kernelspec": {
   "display_name": "Python 3 (ipykernel)",
   "language": "python",
   "name": "python3"
  },
  "language_info": {
   "codemirror_mode": {
    "name": "ipython",
    "version": 3
   },
   "file_extension": ".py",
   "mimetype": "text/x-python",
   "name": "python",
   "nbconvert_exporter": "python",
   "pygments_lexer": "ipython3",
   "version": "3.11.4"
  }
 },
 "nbformat": 4,
 "nbformat_minor": 5
}
