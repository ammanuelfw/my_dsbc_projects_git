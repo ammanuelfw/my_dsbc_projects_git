{
 "cells": [
  {
   "cell_type": "markdown",
   "id": "a2465eaa",
   "metadata": {},
   "source": [
    "### The following processes will be conducted in this data wrangling section:\n",
    "\n",
    "### Reading the raw data from a CSV file\n",
    "\n",
    "### Display data samples to understand its structure\n",
    "\n",
    "### Data Cleaning: Identify and handle missing values\n",
    "\n",
    "### "
   ]
  },
  {
   "cell_type": "code",
   "execution_count": 1,
   "id": "e9358ff8",
   "metadata": {},
   "outputs": [],
   "source": [
    "# First, import the relevant modules and packages\n",
    "import os\n",
    "import pandas as pd\n",
    "import numpy as np\n",
    "import matplotlib.pyplot as plt\n",
    "import seaborn as sns\n",
    "\n",
    "#suppress future warnings\n",
    "#import warnings\n",
    "#warnings.simplefilter(action='ignore', category=FutureWarning)\n",
    "#warnings.simplefilter(action='ignore', category=UserWarning)\n",
    "\n",
    "# Show plots inline\n",
    "%matplotlib inline"
   ]
  },
  {
   "cell_type": "code",
   "execution_count": 2,
   "id": "d05a8a1c",
   "metadata": {},
   "outputs": [],
   "source": [
    "df1 = pd.read_csv('../01_raw_data/oil_production_statistics.csv', encoding='latin-1')"
   ]
  },
  {
   "cell_type": "code",
   "execution_count": 3,
   "id": "33ead54d",
   "metadata": {
    "scrolled": true
   },
   "outputs": [
    {
     "data": {
      "text/html": [
       "<div>\n",
       "<style scoped>\n",
       "    .dataframe tbody tr th:only-of-type {\n",
       "        vertical-align: middle;\n",
       "    }\n",
       "\n",
       "    .dataframe tbody tr th {\n",
       "        vertical-align: top;\n",
       "    }\n",
       "\n",
       "    .dataframe thead th {\n",
       "        text-align: right;\n",
       "    }\n",
       "</style>\n",
       "<table border=\"1\" class=\"dataframe\">\n",
       "  <thead>\n",
       "    <tr style=\"text-align: right;\">\n",
       "      <th></th>\n",
       "      <th>country_name</th>\n",
       "      <th>type</th>\n",
       "      <th>product</th>\n",
       "      <th>flow</th>\n",
       "      <th>year</th>\n",
       "      <th>value</th>\n",
       "    </tr>\n",
       "  </thead>\n",
       "  <tbody>\n",
       "    <tr>\n",
       "      <th>0</th>\n",
       "      <td>Australia</td>\n",
       "      <td>Balance</td>\n",
       "      <td>Crude oil</td>\n",
       "      <td>Industrial Production</td>\n",
       "      <td>2021</td>\n",
       "      <td>18029.678</td>\n",
       "    </tr>\n",
       "    <tr>\n",
       "      <th>1</th>\n",
       "      <td>Austria</td>\n",
       "      <td>Balance</td>\n",
       "      <td>Crude oil</td>\n",
       "      <td>Industrial Production</td>\n",
       "      <td>2021</td>\n",
       "      <td>561.852</td>\n",
       "    </tr>\n",
       "    <tr>\n",
       "      <th>2</th>\n",
       "      <td>Belgium</td>\n",
       "      <td>Balance</td>\n",
       "      <td>Crude oil</td>\n",
       "      <td>Industrial Production</td>\n",
       "      <td>2021</td>\n",
       "      <td>0.000</td>\n",
       "    </tr>\n",
       "    <tr>\n",
       "      <th>3</th>\n",
       "      <td>Canada</td>\n",
       "      <td>Balance</td>\n",
       "      <td>Crude oil</td>\n",
       "      <td>Industrial Production</td>\n",
       "      <td>2021</td>\n",
       "      <td>266630.180</td>\n",
       "    </tr>\n",
       "    <tr>\n",
       "      <th>4</th>\n",
       "      <td>Chile</td>\n",
       "      <td>Balance</td>\n",
       "      <td>Crude oil</td>\n",
       "      <td>Industrial Production</td>\n",
       "      <td>2021</td>\n",
       "      <td>340.997</td>\n",
       "    </tr>\n",
       "  </tbody>\n",
       "</table>\n",
       "</div>"
      ],
      "text/plain": [
       "  country_name     type    product                   flow  year       value\n",
       "0    Australia  Balance  Crude oil  Industrial Production  2021   18029.678\n",
       "1      Austria  Balance  Crude oil  Industrial Production  2021     561.852\n",
       "2      Belgium  Balance  Crude oil  Industrial Production  2021       0.000\n",
       "3       Canada  Balance  Crude oil  Industrial Production  2021  266630.180\n",
       "4        Chile  Balance  Crude oil  Industrial Production  2021     340.997"
      ]
     },
     "execution_count": 3,
     "metadata": {},
     "output_type": "execute_result"
    }
   ],
   "source": [
    "# Displaying the first few rows of the raw data to understand its structure\n",
    "df1.head()"
   ]
  },
  {
   "cell_type": "code",
   "execution_count": 4,
   "id": "c0c77a11",
   "metadata": {},
   "outputs": [
    {
     "data": {
      "text/html": [
       "<div>\n",
       "<style scoped>\n",
       "    .dataframe tbody tr th:only-of-type {\n",
       "        vertical-align: middle;\n",
       "    }\n",
       "\n",
       "    .dataframe tbody tr th {\n",
       "        vertical-align: top;\n",
       "    }\n",
       "\n",
       "    .dataframe thead th {\n",
       "        text-align: right;\n",
       "    }\n",
       "</style>\n",
       "<table border=\"1\" class=\"dataframe\">\n",
       "  <thead>\n",
       "    <tr style=\"text-align: right;\">\n",
       "      <th></th>\n",
       "      <th>country_name</th>\n",
       "      <th>type</th>\n",
       "      <th>product</th>\n",
       "      <th>flow</th>\n",
       "      <th>year</th>\n",
       "      <th>value</th>\n",
       "    </tr>\n",
       "  </thead>\n",
       "  <tbody>\n",
       "    <tr>\n",
       "      <th>2371</th>\n",
       "      <td>Sweden</td>\n",
       "      <td>Balance</td>\n",
       "      <td>Residual fuel oil</td>\n",
       "      <td>Storage Channelization</td>\n",
       "      <td>2023</td>\n",
       "      <td>15.122</td>\n",
       "    </tr>\n",
       "    <tr>\n",
       "      <th>2372</th>\n",
       "      <td>Switzerland</td>\n",
       "      <td>Balance</td>\n",
       "      <td>Residual fuel oil</td>\n",
       "      <td>Storage Channelization</td>\n",
       "      <td>2023</td>\n",
       "      <td>-0.976</td>\n",
       "    </tr>\n",
       "    <tr>\n",
       "      <th>2373</th>\n",
       "      <td>Türkiye</td>\n",
       "      <td>Balance</td>\n",
       "      <td>Residual fuel oil</td>\n",
       "      <td>Storage Channelization</td>\n",
       "      <td>2023</td>\n",
       "      <td>80.912</td>\n",
       "    </tr>\n",
       "    <tr>\n",
       "      <th>2374</th>\n",
       "      <td>United Kingdom</td>\n",
       "      <td>Balance</td>\n",
       "      <td>Residual fuel oil</td>\n",
       "      <td>Storage Channelization</td>\n",
       "      <td>2023</td>\n",
       "      <td>0.000</td>\n",
       "    </tr>\n",
       "    <tr>\n",
       "      <th>2375</th>\n",
       "      <td>United States</td>\n",
       "      <td>Balance</td>\n",
       "      <td>Residual fuel oil</td>\n",
       "      <td>Storage Channelization</td>\n",
       "      <td>2023</td>\n",
       "      <td>-212.000</td>\n",
       "    </tr>\n",
       "  </tbody>\n",
       "</table>\n",
       "</div>"
      ],
      "text/plain": [
       "        country_name     type            product                    flow  \\\n",
       "2371          Sweden  Balance  Residual fuel oil  Storage Channelization   \n",
       "2372     Switzerland  Balance  Residual fuel oil  Storage Channelization   \n",
       "2373         Türkiye  Balance  Residual fuel oil  Storage Channelization   \n",
       "2374  United Kingdom  Balance  Residual fuel oil  Storage Channelization   \n",
       "2375   United States  Balance  Residual fuel oil  Storage Channelization   \n",
       "\n",
       "      year    value  \n",
       "2371  2023   15.122  \n",
       "2372  2023   -0.976  \n",
       "2373  2023   80.912  \n",
       "2374  2023    0.000  \n",
       "2375  2023 -212.000  "
      ]
     },
     "execution_count": 4,
     "metadata": {},
     "output_type": "execute_result"
    }
   ],
   "source": [
    "df1.tail()"
   ]
  },
  {
   "cell_type": "code",
   "execution_count": 5,
   "id": "47b3d757",
   "metadata": {},
   "outputs": [
    {
     "data": {
      "text/plain": [
       "(2376, 6)"
      ]
     },
     "execution_count": 5,
     "metadata": {},
     "output_type": "execute_result"
    }
   ],
   "source": [
    "df1.shape"
   ]
  },
  {
   "cell_type": "code",
   "execution_count": 6,
   "id": "18e0ab01",
   "metadata": {
    "scrolled": true
   },
   "outputs": [
    {
     "name": "stdout",
     "output_type": "stream",
     "text": [
      "<class 'pandas.core.frame.DataFrame'>\n",
      "RangeIndex: 2376 entries, 0 to 2375\n",
      "Data columns (total 6 columns):\n",
      " #   Column        Non-Null Count  Dtype  \n",
      "---  ------        --------------  -----  \n",
      " 0   country_name  2376 non-null   object \n",
      " 1   type          2376 non-null   object \n",
      " 2   product       2376 non-null   object \n",
      " 3   flow          2376 non-null   object \n",
      " 4   year          2376 non-null   int64  \n",
      " 5   value         2376 non-null   float64\n",
      "dtypes: float64(1), int64(1), object(4)\n",
      "memory usage: 111.5+ KB\n"
     ]
    }
   ],
   "source": [
    "#Analyze the summary of the data\n",
    "df1.info()"
   ]
  },
  {
   "cell_type": "code",
   "execution_count": 7,
   "id": "3465a60e",
   "metadata": {
    "scrolled": false
   },
   "outputs": [
    {
     "data": {
      "text/plain": [
       "country_name    0\n",
       "type            0\n",
       "product         0\n",
       "flow            0\n",
       "year            0\n",
       "value           0\n",
       "dtype: int64"
      ]
     },
     "execution_count": 7,
     "metadata": {},
     "output_type": "execute_result"
    }
   ],
   "source": [
    "df1.isnull().sum()"
   ]
  },
  {
   "cell_type": "code",
   "execution_count": 10,
   "id": "39077040",
   "metadata": {},
   "outputs": [
    {
     "name": "stdout",
     "output_type": "stream",
     "text": [
      "DataFrame saved to Oil_production_wrangled_data.csv'.\n"
     ]
    }
   ],
   "source": [
    "# Save the DataFrame to a CSV file\n",
    "df1.to_csv('../03_processed_data/oil_production_wrangled_data.csv', index=False)\n",
    "\n",
    "print(\"DataFrame saved to Oil_production_wrangled_data.csv'.\")\n"
   ]
  }
 ],
 "metadata": {
  "kernelspec": {
   "display_name": "Python 3 (ipykernel)",
   "language": "python",
   "name": "python3"
  },
  "language_info": {
   "codemirror_mode": {
    "name": "ipython",
    "version": 3
   },
   "file_extension": ".py",
   "mimetype": "text/x-python",
   "name": "python",
   "nbconvert_exporter": "python",
   "pygments_lexer": "ipython3",
   "version": "3.11.4"
  }
 },
 "nbformat": 4,
 "nbformat_minor": 5
}
